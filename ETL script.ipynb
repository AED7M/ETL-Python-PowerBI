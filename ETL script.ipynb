{
 "cells": [
  {
   "cell_type": "markdown",
   "metadata": {},
   "source": [
    "# ETL Pipeline Documentation\n"
   ]
  },
  {
   "cell_type": "markdown",
   "metadata": {},
   "source": [
    "## Overview"
   ]
  },
  {
   "cell_type": "markdown",
   "metadata": {},
   "source": [
    "This document describes the Extract, Transform, Load (ETL) process for merging and transforming sales data from EU and US regions. The goal is to create a unified dataset with consistent formatting and structure.\n"
   ]
  },
  {
   "cell_type": "markdown",
   "metadata": {},
   "source": [
    "### Importing the necessary libraries"
   ]
  },
  {
   "cell_type": "code",
   "execution_count": 128,
   "metadata": {},
   "outputs": [],
   "source": [
    "import pandas as pd\n",
    "from sqlalchemy import create_engine\n",
    "import psycopg2\n",
    "import os\n",
    "from dotenv import load_dotenv"
   ]
  },
  {
   "cell_type": "markdown",
   "metadata": {},
   "source": [
    "## Extract"
   ]
  },
  {
   "cell_type": "markdown",
   "metadata": {},
   "source": [
    "### Load the Datasets paths and the db database connection "
   ]
  },
  {
   "cell_type": "code",
   "execution_count": 129,
   "metadata": {},
   "outputs": [],
   "source": [
    "# Load the .env file\n",
    "load_dotenv()\n",
    "DATABASE_URL = os.getenv('DATABASE_URL')\n",
    "eu_sales_file_path = os.getenv('eu_sales_file_path')\n",
    "us_sales_file_path = os.getenv('us_sales_file_path')"
   ]
  },
  {
   "cell_type": "markdown",
   "metadata": {},
   "source": [
    "### Load the Datasets\n",
    "The first step is to load the datasets from CSV files into pandas DataFrames."
   ]
  },
  {
   "cell_type": "code",
   "execution_count": 130,
   "metadata": {},
   "outputs": [],
   "source": [
    "# Load the datasets\n",
    "eu_sales = pd.read_csv(eu_sales_file_path, encoding='iso-8859-1')\n",
    "us_sales = pd.read_csv(us_sales_file_path, encoding='iso-8859-1')"
   ]
  },
  {
   "cell_type": "markdown",
   "metadata": {},
   "source": [
    "Display the first few rows of each dataset\n"
   ]
  },
  {
   "cell_type": "code",
   "execution_count": 131,
   "metadata": {},
   "outputs": [
    {
     "data": {
      "text/html": [
       "<div>\n",
       "<style scoped>\n",
       "    .dataframe tbody tr th:only-of-type {\n",
       "        vertical-align: middle;\n",
       "    }\n",
       "\n",
       "    .dataframe tbody tr th {\n",
       "        vertical-align: top;\n",
       "    }\n",
       "\n",
       "    .dataframe thead th {\n",
       "        text-align: right;\n",
       "    }\n",
       "</style>\n",
       "<table border=\"1\" class=\"dataframe\">\n",
       "  <thead>\n",
       "    <tr style=\"text-align: right;\">\n",
       "      <th></th>\n",
       "      <th>Row ID</th>\n",
       "      <th>Order ID</th>\n",
       "      <th>Order Date</th>\n",
       "      <th>Ship Date</th>\n",
       "      <th>Ship Mode</th>\n",
       "      <th>Customer ID</th>\n",
       "      <th>Customer Name</th>\n",
       "      <th>Segment</th>\n",
       "      <th>City</th>\n",
       "      <th>State/Province</th>\n",
       "      <th>Country/Region</th>\n",
       "      <th>Region</th>\n",
       "      <th>Product ID</th>\n",
       "      <th>Category</th>\n",
       "      <th>Sub-Category</th>\n",
       "      <th>Product Name</th>\n",
       "      <th>Sales</th>\n",
       "      <th>Quantity</th>\n",
       "      <th>Discount</th>\n",
       "      <th>Profit</th>\n",
       "    </tr>\n",
       "  </thead>\n",
       "  <tbody>\n",
       "    <tr>\n",
       "      <th>0</th>\n",
       "      <td>1</td>\n",
       "      <td>ES-2021-1311038</td>\n",
       "      <td>2/7/2021</td>\n",
       "      <td>2/11/2021</td>\n",
       "      <td>Standard Class</td>\n",
       "      <td>AS-10045</td>\n",
       "      <td>Aaron Smayling</td>\n",
       "      <td>Corporate</td>\n",
       "      <td>Leeds</td>\n",
       "      <td>England</td>\n",
       "      <td>United Kingdom</td>\n",
       "      <td>North</td>\n",
       "      <td>OFF-ST-10000988</td>\n",
       "      <td>Office Supplies</td>\n",
       "      <td>Storage</td>\n",
       "      <td>Fellowes Folders, Blue</td>\n",
       "      <td>79.20</td>\n",
       "      <td>3</td>\n",
       "      <td>0.0</td>\n",
       "      <td>39.60</td>\n",
       "    </tr>\n",
       "    <tr>\n",
       "      <th>1</th>\n",
       "      <td>2</td>\n",
       "      <td>ES-2021-1311038</td>\n",
       "      <td>2/7/2021</td>\n",
       "      <td>2/11/2021</td>\n",
       "      <td>Standard Class</td>\n",
       "      <td>AS-10045</td>\n",
       "      <td>Aaron Smayling</td>\n",
       "      <td>Corporate</td>\n",
       "      <td>Leeds</td>\n",
       "      <td>England</td>\n",
       "      <td>United Kingdom</td>\n",
       "      <td>North</td>\n",
       "      <td>TEC-AC-10004144</td>\n",
       "      <td>Technology</td>\n",
       "      <td>Accessories</td>\n",
       "      <td>SanDisk Numeric Keypad, Bluetooth</td>\n",
       "      <td>388.92</td>\n",
       "      <td>7</td>\n",
       "      <td>0.0</td>\n",
       "      <td>0.00</td>\n",
       "    </tr>\n",
       "    <tr>\n",
       "      <th>2</th>\n",
       "      <td>3</td>\n",
       "      <td>ES-2021-1311038</td>\n",
       "      <td>2/7/2021</td>\n",
       "      <td>2/11/2021</td>\n",
       "      <td>Standard Class</td>\n",
       "      <td>AS-10045</td>\n",
       "      <td>Aaron Smayling</td>\n",
       "      <td>Corporate</td>\n",
       "      <td>Leeds</td>\n",
       "      <td>England</td>\n",
       "      <td>United Kingdom</td>\n",
       "      <td>North</td>\n",
       "      <td>OFF-LA-10001915</td>\n",
       "      <td>Office Supplies</td>\n",
       "      <td>Labels</td>\n",
       "      <td>Avery Legal Exhibit Labels, 5000 Label Set</td>\n",
       "      <td>35.19</td>\n",
       "      <td>3</td>\n",
       "      <td>0.0</td>\n",
       "      <td>16.11</td>\n",
       "    </tr>\n",
       "    <tr>\n",
       "      <th>3</th>\n",
       "      <td>4</td>\n",
       "      <td>ES-2021-1311038</td>\n",
       "      <td>2/7/2021</td>\n",
       "      <td>2/11/2021</td>\n",
       "      <td>Standard Class</td>\n",
       "      <td>AS-10045</td>\n",
       "      <td>Aaron Smayling</td>\n",
       "      <td>Corporate</td>\n",
       "      <td>Leeds</td>\n",
       "      <td>England</td>\n",
       "      <td>United Kingdom</td>\n",
       "      <td>North</td>\n",
       "      <td>OFF-ST-10004550</td>\n",
       "      <td>Office Supplies</td>\n",
       "      <td>Storage</td>\n",
       "      <td>Fellowes Folders, Wire Frame</td>\n",
       "      <td>50.94</td>\n",
       "      <td>2</td>\n",
       "      <td>0.0</td>\n",
       "      <td>13.20</td>\n",
       "    </tr>\n",
       "    <tr>\n",
       "      <th>4</th>\n",
       "      <td>5</td>\n",
       "      <td>ES-2021-1311038</td>\n",
       "      <td>2/7/2021</td>\n",
       "      <td>2/11/2021</td>\n",
       "      <td>Standard Class</td>\n",
       "      <td>AS-10045</td>\n",
       "      <td>Aaron Smayling</td>\n",
       "      <td>Corporate</td>\n",
       "      <td>Leeds</td>\n",
       "      <td>England</td>\n",
       "      <td>United Kingdom</td>\n",
       "      <td>North</td>\n",
       "      <td>TEC-AC-10004068</td>\n",
       "      <td>Technology</td>\n",
       "      <td>Accessories</td>\n",
       "      <td>Memorex Memory Card, USB</td>\n",
       "      <td>307.44</td>\n",
       "      <td>3</td>\n",
       "      <td>0.0</td>\n",
       "      <td>73.71</td>\n",
       "    </tr>\n",
       "  </tbody>\n",
       "</table>\n",
       "</div>"
      ],
      "text/plain": [
       "   Row ID         Order ID Order Date  Ship Date       Ship Mode Customer ID  \\\n",
       "0       1  ES-2021-1311038   2/7/2021  2/11/2021  Standard Class    AS-10045   \n",
       "1       2  ES-2021-1311038   2/7/2021  2/11/2021  Standard Class    AS-10045   \n",
       "2       3  ES-2021-1311038   2/7/2021  2/11/2021  Standard Class    AS-10045   \n",
       "3       4  ES-2021-1311038   2/7/2021  2/11/2021  Standard Class    AS-10045   \n",
       "4       5  ES-2021-1311038   2/7/2021  2/11/2021  Standard Class    AS-10045   \n",
       "\n",
       "    Customer Name    Segment   City State/Province  Country/Region Region  \\\n",
       "0  Aaron Smayling  Corporate  Leeds        England  United Kingdom  North   \n",
       "1  Aaron Smayling  Corporate  Leeds        England  United Kingdom  North   \n",
       "2  Aaron Smayling  Corporate  Leeds        England  United Kingdom  North   \n",
       "3  Aaron Smayling  Corporate  Leeds        England  United Kingdom  North   \n",
       "4  Aaron Smayling  Corporate  Leeds        England  United Kingdom  North   \n",
       "\n",
       "        Product ID         Category Sub-Category  \\\n",
       "0  OFF-ST-10000988  Office Supplies      Storage   \n",
       "1  TEC-AC-10004144       Technology  Accessories   \n",
       "2  OFF-LA-10001915  Office Supplies       Labels   \n",
       "3  OFF-ST-10004550  Office Supplies      Storage   \n",
       "4  TEC-AC-10004068       Technology  Accessories   \n",
       "\n",
       "                                 Product Name   Sales  Quantity  Discount  \\\n",
       "0                      Fellowes Folders, Blue   79.20         3       0.0   \n",
       "1           SanDisk Numeric Keypad, Bluetooth  388.92         7       0.0   \n",
       "2  Avery Legal Exhibit Labels, 5000 Label Set   35.19         3       0.0   \n",
       "3                Fellowes Folders, Wire Frame   50.94         2       0.0   \n",
       "4                    Memorex Memory Card, USB  307.44         3       0.0   \n",
       "\n",
       "   Profit  \n",
       "0   39.60  \n",
       "1    0.00  \n",
       "2   16.11  \n",
       "3   13.20  \n",
       "4   73.71  "
      ]
     },
     "execution_count": 131,
     "metadata": {},
     "output_type": "execute_result"
    }
   ],
   "source": [
    "eu_sales.head()"
   ]
  },
  {
   "cell_type": "code",
   "execution_count": 132,
   "metadata": {},
   "outputs": [
    {
     "data": {
      "text/html": [
       "<div>\n",
       "<style scoped>\n",
       "    .dataframe tbody tr th:only-of-type {\n",
       "        vertical-align: middle;\n",
       "    }\n",
       "\n",
       "    .dataframe tbody tr th {\n",
       "        vertical-align: top;\n",
       "    }\n",
       "\n",
       "    .dataframe thead th {\n",
       "        text-align: right;\n",
       "    }\n",
       "</style>\n",
       "<table border=\"1\" class=\"dataframe\">\n",
       "  <thead>\n",
       "    <tr style=\"text-align: right;\">\n",
       "      <th></th>\n",
       "      <th>Row ID</th>\n",
       "      <th>Order ID</th>\n",
       "      <th>Order Date</th>\n",
       "      <th>Ship Date</th>\n",
       "      <th>Ship Mode</th>\n",
       "      <th>Customer ID</th>\n",
       "      <th>Customer Name</th>\n",
       "      <th>Segment</th>\n",
       "      <th>Country/Region</th>\n",
       "      <th>City</th>\n",
       "      <th>...</th>\n",
       "      <th>Postal Code</th>\n",
       "      <th>Region</th>\n",
       "      <th>Product ID</th>\n",
       "      <th>Category</th>\n",
       "      <th>Sub-Category</th>\n",
       "      <th>Product Name</th>\n",
       "      <th>Sales</th>\n",
       "      <th>Quantity</th>\n",
       "      <th>Discount</th>\n",
       "      <th>Profit</th>\n",
       "    </tr>\n",
       "  </thead>\n",
       "  <tbody>\n",
       "    <tr>\n",
       "      <th>0</th>\n",
       "      <td>1</td>\n",
       "      <td>CA-2021-152156</td>\n",
       "      <td>11/8/2021</td>\n",
       "      <td>11/11/2021</td>\n",
       "      <td>Second Class</td>\n",
       "      <td>CG-12520</td>\n",
       "      <td>Claire Gute</td>\n",
       "      <td>Consumer</td>\n",
       "      <td>United States</td>\n",
       "      <td>Henderson</td>\n",
       "      <td>...</td>\n",
       "      <td>42420.0</td>\n",
       "      <td>South</td>\n",
       "      <td>FUR-BO-10001798</td>\n",
       "      <td>Furniture</td>\n",
       "      <td>Bookcases</td>\n",
       "      <td>Bush Somerset Collection Bookcase</td>\n",
       "      <td>261.9600</td>\n",
       "      <td>2</td>\n",
       "      <td>0.00</td>\n",
       "      <td>41.9136</td>\n",
       "    </tr>\n",
       "    <tr>\n",
       "      <th>1</th>\n",
       "      <td>2</td>\n",
       "      <td>CA-2021-152156</td>\n",
       "      <td>11/8/2021</td>\n",
       "      <td>11/11/2021</td>\n",
       "      <td>Second Class</td>\n",
       "      <td>CG-12520</td>\n",
       "      <td>Claire Gute</td>\n",
       "      <td>Consumer</td>\n",
       "      <td>United States</td>\n",
       "      <td>Henderson</td>\n",
       "      <td>...</td>\n",
       "      <td>42420.0</td>\n",
       "      <td>South</td>\n",
       "      <td>FUR-CH-10000454</td>\n",
       "      <td>Furniture</td>\n",
       "      <td>Chairs</td>\n",
       "      <td>Hon Deluxe Fabric Upholstered Stacking Chairs,...</td>\n",
       "      <td>731.9400</td>\n",
       "      <td>3</td>\n",
       "      <td>0.00</td>\n",
       "      <td>219.5820</td>\n",
       "    </tr>\n",
       "    <tr>\n",
       "      <th>2</th>\n",
       "      <td>3</td>\n",
       "      <td>CA-2021-138688</td>\n",
       "      <td>6/12/2021</td>\n",
       "      <td>6/16/2021</td>\n",
       "      <td>Second Class</td>\n",
       "      <td>DV-13045</td>\n",
       "      <td>Darrin Van Huff</td>\n",
       "      <td>Corporate</td>\n",
       "      <td>United States</td>\n",
       "      <td>Los Angeles</td>\n",
       "      <td>...</td>\n",
       "      <td>90036.0</td>\n",
       "      <td>West</td>\n",
       "      <td>OFF-LA-10000240</td>\n",
       "      <td>Office Supplies</td>\n",
       "      <td>Labels</td>\n",
       "      <td>Self-Adhesive Address Labels for Typewriters b...</td>\n",
       "      <td>14.6200</td>\n",
       "      <td>2</td>\n",
       "      <td>0.00</td>\n",
       "      <td>6.8714</td>\n",
       "    </tr>\n",
       "    <tr>\n",
       "      <th>3</th>\n",
       "      <td>4</td>\n",
       "      <td>US-2020-108966</td>\n",
       "      <td>10/11/2020</td>\n",
       "      <td>10/18/2020</td>\n",
       "      <td>Standard Class</td>\n",
       "      <td>SO-20335</td>\n",
       "      <td>Sean O'Donnell</td>\n",
       "      <td>Consumer</td>\n",
       "      <td>United States</td>\n",
       "      <td>Fort Lauderdale</td>\n",
       "      <td>...</td>\n",
       "      <td>33311.0</td>\n",
       "      <td>South</td>\n",
       "      <td>FUR-TA-10000577</td>\n",
       "      <td>Furniture</td>\n",
       "      <td>Tables</td>\n",
       "      <td>Bretford CR4500 Series Slim Rectangular Table</td>\n",
       "      <td>957.5775</td>\n",
       "      <td>5</td>\n",
       "      <td>0.45</td>\n",
       "      <td>-383.0310</td>\n",
       "    </tr>\n",
       "    <tr>\n",
       "      <th>4</th>\n",
       "      <td>5</td>\n",
       "      <td>US-2020-108966</td>\n",
       "      <td>10/11/2020</td>\n",
       "      <td>10/18/2020</td>\n",
       "      <td>Standard Class</td>\n",
       "      <td>SO-20335</td>\n",
       "      <td>Sean O'Donnell</td>\n",
       "      <td>Consumer</td>\n",
       "      <td>United States</td>\n",
       "      <td>Fort Lauderdale</td>\n",
       "      <td>...</td>\n",
       "      <td>33311.0</td>\n",
       "      <td>South</td>\n",
       "      <td>OFF-ST-10000760</td>\n",
       "      <td>Office Supplies</td>\n",
       "      <td>Storage</td>\n",
       "      <td>Eldon Fold 'N Roll Cart System</td>\n",
       "      <td>22.3680</td>\n",
       "      <td>2</td>\n",
       "      <td>0.20</td>\n",
       "      <td>2.5164</td>\n",
       "    </tr>\n",
       "  </tbody>\n",
       "</table>\n",
       "<p>5 rows × 21 columns</p>\n",
       "</div>"
      ],
      "text/plain": [
       "   Row ID        Order ID  Order Date   Ship Date       Ship Mode Customer ID  \\\n",
       "0       1  CA-2021-152156   11/8/2021  11/11/2021    Second Class    CG-12520   \n",
       "1       2  CA-2021-152156   11/8/2021  11/11/2021    Second Class    CG-12520   \n",
       "2       3  CA-2021-138688   6/12/2021   6/16/2021    Second Class    DV-13045   \n",
       "3       4  US-2020-108966  10/11/2020  10/18/2020  Standard Class    SO-20335   \n",
       "4       5  US-2020-108966  10/11/2020  10/18/2020  Standard Class    SO-20335   \n",
       "\n",
       "     Customer Name    Segment Country/Region             City  ...  \\\n",
       "0      Claire Gute   Consumer  United States        Henderson  ...   \n",
       "1      Claire Gute   Consumer  United States        Henderson  ...   \n",
       "2  Darrin Van Huff  Corporate  United States      Los Angeles  ...   \n",
       "3   Sean O'Donnell   Consumer  United States  Fort Lauderdale  ...   \n",
       "4   Sean O'Donnell   Consumer  United States  Fort Lauderdale  ...   \n",
       "\n",
       "  Postal Code  Region       Product ID         Category Sub-Category  \\\n",
       "0     42420.0   South  FUR-BO-10001798        Furniture    Bookcases   \n",
       "1     42420.0   South  FUR-CH-10000454        Furniture       Chairs   \n",
       "2     90036.0    West  OFF-LA-10000240  Office Supplies       Labels   \n",
       "3     33311.0   South  FUR-TA-10000577        Furniture       Tables   \n",
       "4     33311.0   South  OFF-ST-10000760  Office Supplies      Storage   \n",
       "\n",
       "                                        Product Name     Sales  Quantity  \\\n",
       "0                  Bush Somerset Collection Bookcase  261.9600         2   \n",
       "1  Hon Deluxe Fabric Upholstered Stacking Chairs,...  731.9400         3   \n",
       "2  Self-Adhesive Address Labels for Typewriters b...   14.6200         2   \n",
       "3      Bretford CR4500 Series Slim Rectangular Table  957.5775         5   \n",
       "4                     Eldon Fold 'N Roll Cart System   22.3680         2   \n",
       "\n",
       "   Discount    Profit  \n",
       "0      0.00   41.9136  \n",
       "1      0.00  219.5820  \n",
       "2      0.00    6.8714  \n",
       "3      0.45 -383.0310  \n",
       "4      0.20    2.5164  \n",
       "\n",
       "[5 rows x 21 columns]"
      ]
     },
     "execution_count": 132,
     "metadata": {},
     "output_type": "execute_result"
    }
   ],
   "source": [
    "us_sales.head()"
   ]
  },
  {
   "cell_type": "code",
   "execution_count": 133,
   "metadata": {},
   "outputs": [
    {
     "data": {
      "text/plain": [
       "Index(['Row ID', 'Order ID', 'Order Date', 'Ship Date', 'Ship Mode',\n",
       "       'Customer ID', 'Customer Name', 'Segment', 'Country/Region', 'City',\n",
       "       'State', 'Postal Code', 'Region', 'Product ID', 'Category',\n",
       "       'Sub-Category', 'Product Name', 'Sales', 'Quantity', 'Discount',\n",
       "       'Profit'],\n",
       "      dtype='object')"
      ]
     },
     "execution_count": 133,
     "metadata": {},
     "output_type": "execute_result"
    }
   ],
   "source": [
    "us_sales.columns"
   ]
  },
  {
   "cell_type": "markdown",
   "metadata": {},
   "source": [
    "## Transform"
   ]
  },
  {
   "cell_type": "markdown",
   "metadata": {},
   "source": [
    "### Split Columns"
   ]
  },
  {
   "cell_type": "markdown",
   "metadata": {},
   "source": [
    "The order ID, customer ID, and product ID columns in both datasets have extra information. While this data could be useful in a Snowflake schema, we're going to use a star schema for our Power BI dashboard. We'll extract just the IDs from these columns and drop the extra parts, as they aren't relevant to what we're doing."
   ]
  },
  {
   "cell_type": "code",
   "execution_count": 134,
   "metadata": {},
   "outputs": [],
   "source": [
    "# Split 'Order ID' column into multiple columns and keep only the 'OrderID' part\n",
    "column_to_split = 'Order ID'  \n",
    "delimiter = '-'  \n",
    "new_column_names = ['co_code', 'year_part', 'OrderID']  \n",
    "\n",
    "us_sales[new_column_names] = us_sales[column_to_split].str.split(delimiter, expand=True)\n",
    "eu_sales[new_column_names] = eu_sales[column_to_split].str.split(delimiter, expand=True)"
   ]
  },
  {
   "cell_type": "code",
   "execution_count": 135,
   "metadata": {},
   "outputs": [],
   "source": [
    "# Split 'Customer ID' column into multiple columns and keep only the 'CustomerID' part\n",
    "column_to_split = 'Customer ID' \n",
    "delimiter = '-'  \n",
    "new_column_names = ['cu_int', 'CustomerID']  \n",
    "\n",
    "us_sales[new_column_names] = us_sales[column_to_split].str.split(delimiter, expand=True)\n",
    "eu_sales[new_column_names] = eu_sales[column_to_split].str.split(delimiter, expand=True)"
   ]
  },
  {
   "cell_type": "code",
   "execution_count": 136,
   "metadata": {},
   "outputs": [],
   "source": [
    "# Split 'Product ID' column into multiple columns and keep only the 'ProductID' part\n",
    "column_to_split = 'Product ID'  \n",
    "delimiter = '-'  \n",
    "new_column_names = ['category_id', 'subcategory_id', 'ProductID']  \n",
    "\n",
    "us_sales[new_column_names] = us_sales[column_to_split].str.split(delimiter, expand=True)\n",
    "eu_sales[new_column_names] = eu_sales[column_to_split].str.split(delimiter, expand=True)"
   ]
  },
  {
   "cell_type": "markdown",
   "metadata": {},
   "source": [
    "### Drop Unnecessary Columns"
   ]
  },
  {
   "cell_type": "markdown",
   "metadata": {},
   "source": [
    "\n",
    "Now to remove the unnecessary columns and the Postal Code column, as it's not needed for our analysis."
   ]
  },
  {
   "cell_type": "code",
   "execution_count": 137,
   "metadata": {},
   "outputs": [],
   "source": [
    "us_sales.drop(columns=['category_id', 'subcategory_id','cu_int','co_code','year_part','Postal Code','Order ID','Customer ID','Product ID'], inplace=True)"
   ]
  },
  {
   "cell_type": "code",
   "execution_count": 138,
   "metadata": {},
   "outputs": [],
   "source": [
    "eu_sales.drop(columns=['category_id', 'subcategory_id','cu_int','co_code','year_part','Order ID','Customer ID','Product ID'], inplace=True)"
   ]
  },
  {
   "cell_type": "markdown",
   "metadata": {},
   "source": [
    "### Rename Columns"
   ]
  },
  {
   "cell_type": "markdown",
   "metadata": {},
   "source": [
    "Since the data is clean from the source, we don't need to clean it up. We'll rename the column names for consistency and ease of use."
   ]
  },
  {
   "cell_type": "code",
   "execution_count": 139,
   "metadata": {},
   "outputs": [],
   "source": [
    "# Rename columns to match the database schema\n",
    "us_sales.rename(columns={\n",
    "    'Row ID': 'transaction_id',\n",
    "    'Order Date': 'order_date',\n",
    "    'Ship Date': 'ship_date',\n",
    "    'Ship Mode': 'ship_mode',\n",
    "    'Customer Name': 'customer_name',\n",
    "    'Segment': 'segment',\n",
    "    'Country/Region': 'country',\n",
    "    'City': 'city',\n",
    "    'State': 'state',\n",
    "    'Region': 'region',\n",
    "    'Category': 'category',\n",
    "    'Sub-Category': 'subcategory',\n",
    "    'Product Name': 'product_name',\n",
    "    'Sales': 'sales',\n",
    "    'Quantity': 'quantity',\n",
    "    'Discount': 'discount',\n",
    "    'Profit': 'profit',\n",
    "    'OrderID': 'order_id',\n",
    "    'CustomerID': 'customer_id',\n",
    "    'ProductID': 'product_id'\n",
    "}, inplace=True)\n"
   ]
  },
  {
   "cell_type": "code",
   "execution_count": 140,
   "metadata": {},
   "outputs": [],
   "source": [
    "# Rename columns to match the database schema for the eu_sales DataFrame\n",
    "eu_sales.rename(columns={\n",
    "    'Row ID': 'transaction_id',\n",
    "    'Order Date': 'order_date',\n",
    "    'Ship Date': 'ship_date',\n",
    "    'Ship Mode': 'ship_mode',\n",
    "    'Customer Name': 'customer_name',\n",
    "    'Segment': 'segment',\n",
    "    'City': 'city',\n",
    "    'State/Province': 'state',\n",
    "    'Country/Region': 'country',\n",
    "    'Region': 'region',\n",
    "    'Category': 'category',\n",
    "    'Sub-Category': 'subcategory',\n",
    "    'Product Name': 'product_name',\n",
    "    'Sales': 'sales',\n",
    "    'Quantity': 'quantity',\n",
    "    'Discount': 'discount',\n",
    "    'Profit': 'profit',\n",
    "    'OrderID': 'order_id',\n",
    "    'CustomerID': 'customer_id',\n",
    "    'ProductID': 'product_id'\n",
    "}, inplace=True)\n"
   ]
  },
  {
   "cell_type": "markdown",
   "metadata": {},
   "source": [
    "### Prefix Identifiers"
   ]
  },
  {
   "cell_type": "markdown",
   "metadata": {},
   "source": [
    "Prefix TransactionID, CustomerID and Region with country-specific identifiers."
   ]
  },
  {
   "cell_type": "code",
   "execution_count": 141,
   "metadata": {},
   "outputs": [],
   "source": [
    "# Prefix customer IDs with country-specific identifiers\n",
    "us_sales['transaction_id'] = 'US_' + us_sales['transaction_id'].astype(str)\n",
    "eu_sales['transaction_id'] = 'EU_' + eu_sales['transaction_id'].astype(str)"
   ]
  },
  {
   "cell_type": "code",
   "execution_count": 142,
   "metadata": {},
   "outputs": [],
   "source": [
    "# Prefix customer IDs with country-specific identifiers\n",
    "us_sales['customer_id'] = 'US_' + us_sales['customer_id'].astype(str)\n",
    "eu_sales['customer_id'] = 'EU_' + eu_sales['customer_id'].astype(str)"
   ]
  },
  {
   "cell_type": "code",
   "execution_count": 143,
   "metadata": {},
   "outputs": [],
   "source": [
    "# Prefix customer IDs with country-specific identifiers\n",
    "us_sales['region'] = 'US_' + us_sales['region'].astype(str)\n",
    "eu_sales['region'] = 'EU_' + eu_sales['region'].astype(str)"
   ]
  },
  {
   "cell_type": "markdown",
   "metadata": {},
   "source": [
    "### Combine Datasets"
   ]
  },
  {
   "cell_type": "code",
   "execution_count": 144,
   "metadata": {},
   "outputs": [],
   "source": [
    "eu_us_sales = pd.concat([eu_sales, us_sales], axis=0)"
   ]
  },
  {
   "cell_type": "code",
   "execution_count": 145,
   "metadata": {},
   "outputs": [
    {
     "data": {
      "text/plain": [
       "True"
      ]
     },
     "execution_count": 145,
     "metadata": {},
     "output_type": "execute_result"
    }
   ],
   "source": [
    "eu_us_sales['order_id'].nunique() == us_sales['order_id'].nunique() + eu_sales['order_id'].nunique()"
   ]
  },
  {
   "cell_type": "markdown",
   "metadata": {},
   "source": [
    "### Create Dimension Tables"
   ]
  },
  {
   "cell_type": "markdown",
   "metadata": {},
   "source": [
    "Now that we've combined the US and EU data, let's create the dimension tables for our dataset"
   ]
  },
  {
   "cell_type": "markdown",
   "metadata": {},
   "source": [
    "1. Customer Dimension\n",
    "Columns: Customer ID, Customer Name, City,State,Country,Segment\n",
    "2. Product Dimension\n",
    "Columns: Product ID, Product Name,Category,Subcategory\n",
    "3. order date Dimension\n",
    "Columns: Date,Year,Quarter,Month,MonthName,Day,DayOfWeek,DayName\n",
    "4. ship date Dimension\n",
    "Columns: Date,Year,Quarter,Month,MonthName,Day,DayOfWeek,DayName\n"
   ]
  },
  {
   "cell_type": "code",
   "execution_count": 146,
   "metadata": {},
   "outputs": [],
   "source": [
    "# Create dimension tables\n",
    "customer_dim = eu_us_sales[['customer_id', 'customer_name', 'segment', 'country', 'city', 'state', 'region']]\n",
    "product_dim = eu_us_sales[['product_id', 'category', 'subcategory', 'product_name']]\n",
    "\n",
    "# Drop duplicates based on the 'customer_id' column in customer_dim\n",
    "customer_dim = customer_dim.drop_duplicates(subset='customer_id')\n",
    "\n",
    "# Drop duplicates based on the 'product_id' column in product_dim\n",
    "product_dim = product_dim.drop_duplicates(subset='product_id')"
   ]
  },
  {
   "cell_type": "code",
   "execution_count": 168,
   "metadata": {},
   "outputs": [],
   "source": [
    "# For order_date_dim\n",
    "eu_us_sales['order_date'] = pd.to_datetime(eu_us_sales['order_date'])\n",
    "start_date = eu_us_sales['order_date'].min().date()\n",
    "end_date = eu_us_sales['order_date'].max().date()\n",
    "\n",
    "# Add one month to the start and end dates\n",
    "start_date = start_date + pd.DateOffset(months=2)\n",
    "end_date = end_date + pd.DateOffset(months=2)\n",
    "\n",
    "order_date_dim = pd.DataFrame({\n",
    "    'order_date': pd.date_range(start=start_date, end=end_date, freq='D')\n",
    "})\n",
    "order_date_dim['year'] = order_date_dim['order_date'].dt.year\n",
    "order_date_dim['quarter'] = order_date_dim['order_date'].dt.quarter\n",
    "order_date_dim['month'] = order_date_dim['order_date'].dt.month\n",
    "order_date_dim['month_name'] = order_date_dim['order_date'].dt.strftime('%B')\n",
    "order_date_dim['day'] = order_date_dim['order_date'].dt.day\n",
    "order_date_dim['day_name'] = order_date_dim['order_date'].dt.strftime('%A')"
   ]
  },
  {
   "cell_type": "code",
   "execution_count": 169,
   "metadata": {},
   "outputs": [],
   "source": [
    "# For ship_date_dim\n",
    "eu_us_sales['ship_date'] = pd.to_datetime(eu_us_sales['ship_date'])\n",
    "start_date = eu_us_sales['ship_date'].min().date()\n",
    "end_date = eu_us_sales['ship_date'].max().date()\n",
    "\n",
    "# Adding one month to the start and end dates\n",
    "start_date = start_date + pd.DateOffset(months=2)\n",
    "end_date = end_date + pd.DateOffset(months=2)\n",
    "\n",
    "ship_date_dim = pd.DataFrame({\n",
    "    'ship_date': pd.date_range(start=start_date, end=end_date, freq='D')\n",
    "})\n",
    "ship_date_dim['year'] = ship_date_dim['ship_date'].dt.year\n",
    "ship_date_dim['quarter'] = ship_date_dim['ship_date'].dt.quarter\n",
    "ship_date_dim['month'] = ship_date_dim['ship_date'].dt.month\n",
    "ship_date_dim['month_name'] = ship_date_dim['ship_date'].dt.strftime('%B')\n",
    "ship_date_dim['day'] = ship_date_dim['ship_date'].dt.day\n",
    "ship_date_dim['day_name'] = ship_date_dim['ship_date'].dt.strftime('%A')"
   ]
  },
  {
   "cell_type": "markdown",
   "metadata": {},
   "source": [
    "### Create Fact Table"
   ]
  },
  {
   "cell_type": "markdown",
   "metadata": {},
   "source": [
    "Now that we've created the dimension tables, let's build the fact table. It will include the transaction ID, order ID, order date, ship date, customer ID, product ID, sales, quantity, discount, profit, and shipping method."
   ]
  },
  {
   "cell_type": "code",
   "execution_count": 149,
   "metadata": {},
   "outputs": [],
   "source": [
    "sales_fact = eu_us_sales[['transaction_id','order_id','order_date','ship_date','ship_mode','customer_id','product_id','sales', 'quantity', 'discount', 'profit']]"
   ]
  },
  {
   "cell_type": "code",
   "execution_count": 150,
   "metadata": {},
   "outputs": [
    {
     "data": {
      "text/html": [
       "<div>\n",
       "<style scoped>\n",
       "    .dataframe tbody tr th:only-of-type {\n",
       "        vertical-align: middle;\n",
       "    }\n",
       "\n",
       "    .dataframe tbody tr th {\n",
       "        vertical-align: top;\n",
       "    }\n",
       "\n",
       "    .dataframe thead th {\n",
       "        text-align: right;\n",
       "    }\n",
       "</style>\n",
       "<table border=\"1\" class=\"dataframe\">\n",
       "  <thead>\n",
       "    <tr style=\"text-align: right;\">\n",
       "      <th></th>\n",
       "      <th>transaction_id</th>\n",
       "      <th>order_id</th>\n",
       "      <th>order_date</th>\n",
       "      <th>ship_date</th>\n",
       "      <th>ship_mode</th>\n",
       "      <th>customer_id</th>\n",
       "      <th>product_id</th>\n",
       "      <th>sales</th>\n",
       "      <th>quantity</th>\n",
       "      <th>discount</th>\n",
       "      <th>profit</th>\n",
       "    </tr>\n",
       "  </thead>\n",
       "  <tbody>\n",
       "    <tr>\n",
       "      <th>0</th>\n",
       "      <td>EU_1</td>\n",
       "      <td>1311038</td>\n",
       "      <td>2021-02-07</td>\n",
       "      <td>2021-02-11</td>\n",
       "      <td>Standard Class</td>\n",
       "      <td>EU_10045</td>\n",
       "      <td>10000988</td>\n",
       "      <td>79.20</td>\n",
       "      <td>3</td>\n",
       "      <td>0.0</td>\n",
       "      <td>39.60</td>\n",
       "    </tr>\n",
       "    <tr>\n",
       "      <th>1</th>\n",
       "      <td>EU_2</td>\n",
       "      <td>1311038</td>\n",
       "      <td>2021-02-07</td>\n",
       "      <td>2021-02-11</td>\n",
       "      <td>Standard Class</td>\n",
       "      <td>EU_10045</td>\n",
       "      <td>10004144</td>\n",
       "      <td>388.92</td>\n",
       "      <td>7</td>\n",
       "      <td>0.0</td>\n",
       "      <td>0.00</td>\n",
       "    </tr>\n",
       "    <tr>\n",
       "      <th>2</th>\n",
       "      <td>EU_3</td>\n",
       "      <td>1311038</td>\n",
       "      <td>2021-02-07</td>\n",
       "      <td>2021-02-11</td>\n",
       "      <td>Standard Class</td>\n",
       "      <td>EU_10045</td>\n",
       "      <td>10001915</td>\n",
       "      <td>35.19</td>\n",
       "      <td>3</td>\n",
       "      <td>0.0</td>\n",
       "      <td>16.11</td>\n",
       "    </tr>\n",
       "    <tr>\n",
       "      <th>3</th>\n",
       "      <td>EU_4</td>\n",
       "      <td>1311038</td>\n",
       "      <td>2021-02-07</td>\n",
       "      <td>2021-02-11</td>\n",
       "      <td>Standard Class</td>\n",
       "      <td>EU_10045</td>\n",
       "      <td>10004550</td>\n",
       "      <td>50.94</td>\n",
       "      <td>2</td>\n",
       "      <td>0.0</td>\n",
       "      <td>13.20</td>\n",
       "    </tr>\n",
       "    <tr>\n",
       "      <th>4</th>\n",
       "      <td>EU_5</td>\n",
       "      <td>1311038</td>\n",
       "      <td>2021-02-07</td>\n",
       "      <td>2021-02-11</td>\n",
       "      <td>Standard Class</td>\n",
       "      <td>EU_10045</td>\n",
       "      <td>10004068</td>\n",
       "      <td>307.44</td>\n",
       "      <td>3</td>\n",
       "      <td>0.0</td>\n",
       "      <td>73.71</td>\n",
       "    </tr>\n",
       "  </tbody>\n",
       "</table>\n",
       "</div>"
      ],
      "text/plain": [
       "  transaction_id order_id order_date  ship_date       ship_mode customer_id  \\\n",
       "0           EU_1  1311038 2021-02-07 2021-02-11  Standard Class    EU_10045   \n",
       "1           EU_2  1311038 2021-02-07 2021-02-11  Standard Class    EU_10045   \n",
       "2           EU_3  1311038 2021-02-07 2021-02-11  Standard Class    EU_10045   \n",
       "3           EU_4  1311038 2021-02-07 2021-02-11  Standard Class    EU_10045   \n",
       "4           EU_5  1311038 2021-02-07 2021-02-11  Standard Class    EU_10045   \n",
       "\n",
       "  product_id   sales  quantity  discount  profit  \n",
       "0   10000988   79.20         3       0.0   39.60  \n",
       "1   10004144  388.92         7       0.0    0.00  \n",
       "2   10001915   35.19         3       0.0   16.11  \n",
       "3   10004550   50.94         2       0.0   13.20  \n",
       "4   10004068  307.44         3       0.0   73.71  "
      ]
     },
     "execution_count": 150,
     "metadata": {},
     "output_type": "execute_result"
    }
   ],
   "source": [
    "sales_fact.head()"
   ]
  },
  {
   "cell_type": "markdown",
   "metadata": {},
   "source": [
    "### We'll check the data types of all the columns and make any necessary adjustments."
   ]
  },
  {
   "cell_type": "markdown",
   "metadata": {},
   "source": [
    "### Display the Dimension and Fact Tables"
   ]
  },
  {
   "cell_type": "code",
   "execution_count": 151,
   "metadata": {},
   "outputs": [
    {
     "data": {
      "text/html": [
       "<div>\n",
       "<style scoped>\n",
       "    .dataframe tbody tr th:only-of-type {\n",
       "        vertical-align: middle;\n",
       "    }\n",
       "\n",
       "    .dataframe tbody tr th {\n",
       "        vertical-align: top;\n",
       "    }\n",
       "\n",
       "    .dataframe thead th {\n",
       "        text-align: right;\n",
       "    }\n",
       "</style>\n",
       "<table border=\"1\" class=\"dataframe\">\n",
       "  <thead>\n",
       "    <tr style=\"text-align: right;\">\n",
       "      <th></th>\n",
       "      <th>customer_id</th>\n",
       "      <th>customer_name</th>\n",
       "      <th>segment</th>\n",
       "      <th>country</th>\n",
       "      <th>city</th>\n",
       "      <th>state</th>\n",
       "      <th>region</th>\n",
       "    </tr>\n",
       "  </thead>\n",
       "  <tbody>\n",
       "    <tr>\n",
       "      <th>0</th>\n",
       "      <td>EU_10045</td>\n",
       "      <td>Aaron Smayling</td>\n",
       "      <td>Corporate</td>\n",
       "      <td>United Kingdom</td>\n",
       "      <td>Leeds</td>\n",
       "      <td>England</td>\n",
       "      <td>EU_North</td>\n",
       "    </tr>\n",
       "    <tr>\n",
       "      <th>7</th>\n",
       "      <td>EU_13840</td>\n",
       "      <td>Ellis Ballard</td>\n",
       "      <td>Corporate</td>\n",
       "      <td>United Kingdom</td>\n",
       "      <td>West Bromwich</td>\n",
       "      <td>England</td>\n",
       "      <td>EU_North</td>\n",
       "    </tr>\n",
       "    <tr>\n",
       "      <th>10</th>\n",
       "      <td>EU_17155</td>\n",
       "      <td>Logan Haushalter</td>\n",
       "      <td>Consumer</td>\n",
       "      <td>France</td>\n",
       "      <td>Le Bouscat</td>\n",
       "      <td>Aquitaine-Limousin-Poitou-Charentes</td>\n",
       "      <td>EU_Central</td>\n",
       "    </tr>\n",
       "    <tr>\n",
       "      <th>15</th>\n",
       "      <td>EU_16540</td>\n",
       "      <td>Kelly Collister</td>\n",
       "      <td>Consumer</td>\n",
       "      <td>France</td>\n",
       "      <td>Strasbourg</td>\n",
       "      <td>Alsace-Champagne-Ardenne-Lorraine</td>\n",
       "      <td>EU_Central</td>\n",
       "    </tr>\n",
       "    <tr>\n",
       "      <th>18</th>\n",
       "      <td>EU_15340</td>\n",
       "      <td>Jasper Cacioppo</td>\n",
       "      <td>Consumer</td>\n",
       "      <td>Germany</td>\n",
       "      <td>Aachen</td>\n",
       "      <td>North Rhine-Westphalia</td>\n",
       "      <td>EU_Central</td>\n",
       "    </tr>\n",
       "  </tbody>\n",
       "</table>\n",
       "</div>"
      ],
      "text/plain": [
       "   customer_id     customer_name    segment         country           city  \\\n",
       "0     EU_10045    Aaron Smayling  Corporate  United Kingdom          Leeds   \n",
       "7     EU_13840     Ellis Ballard  Corporate  United Kingdom  West Bromwich   \n",
       "10    EU_17155  Logan Haushalter   Consumer          France     Le Bouscat   \n",
       "15    EU_16540   Kelly Collister   Consumer          France     Strasbourg   \n",
       "18    EU_15340   Jasper Cacioppo   Consumer         Germany         Aachen   \n",
       "\n",
       "                                  state      region  \n",
       "0                               England    EU_North  \n",
       "7                               England    EU_North  \n",
       "10  Aquitaine-Limousin-Poitou-Charentes  EU_Central  \n",
       "15    Alsace-Champagne-Ardenne-Lorraine  EU_Central  \n",
       "18               North Rhine-Westphalia  EU_Central  "
      ]
     },
     "execution_count": 151,
     "metadata": {},
     "output_type": "execute_result"
    }
   ],
   "source": [
    "customer_dim.head()"
   ]
  },
  {
   "cell_type": "code",
   "execution_count": 152,
   "metadata": {},
   "outputs": [
    {
     "data": {
      "text/html": [
       "<div>\n",
       "<style scoped>\n",
       "    .dataframe tbody tr th:only-of-type {\n",
       "        vertical-align: middle;\n",
       "    }\n",
       "\n",
       "    .dataframe tbody tr th {\n",
       "        vertical-align: top;\n",
       "    }\n",
       "\n",
       "    .dataframe thead th {\n",
       "        text-align: right;\n",
       "    }\n",
       "</style>\n",
       "<table border=\"1\" class=\"dataframe\">\n",
       "  <thead>\n",
       "    <tr style=\"text-align: right;\">\n",
       "      <th></th>\n",
       "      <th>product_id</th>\n",
       "      <th>category</th>\n",
       "      <th>subcategory</th>\n",
       "      <th>product_name</th>\n",
       "    </tr>\n",
       "  </thead>\n",
       "  <tbody>\n",
       "    <tr>\n",
       "      <th>0</th>\n",
       "      <td>10000988</td>\n",
       "      <td>Office Supplies</td>\n",
       "      <td>Storage</td>\n",
       "      <td>Fellowes Folders, Blue</td>\n",
       "    </tr>\n",
       "    <tr>\n",
       "      <th>1</th>\n",
       "      <td>10004144</td>\n",
       "      <td>Technology</td>\n",
       "      <td>Accessories</td>\n",
       "      <td>SanDisk Numeric Keypad, Bluetooth</td>\n",
       "    </tr>\n",
       "    <tr>\n",
       "      <th>2</th>\n",
       "      <td>10001915</td>\n",
       "      <td>Office Supplies</td>\n",
       "      <td>Labels</td>\n",
       "      <td>Avery Legal Exhibit Labels, 5000 Label Set</td>\n",
       "    </tr>\n",
       "    <tr>\n",
       "      <th>3</th>\n",
       "      <td>10004550</td>\n",
       "      <td>Office Supplies</td>\n",
       "      <td>Storage</td>\n",
       "      <td>Fellowes Folders, Wire Frame</td>\n",
       "    </tr>\n",
       "    <tr>\n",
       "      <th>4</th>\n",
       "      <td>10004068</td>\n",
       "      <td>Technology</td>\n",
       "      <td>Accessories</td>\n",
       "      <td>Memorex Memory Card, USB</td>\n",
       "    </tr>\n",
       "  </tbody>\n",
       "</table>\n",
       "</div>"
      ],
      "text/plain": [
       "  product_id         category  subcategory  \\\n",
       "0   10000988  Office Supplies      Storage   \n",
       "1   10004144       Technology  Accessories   \n",
       "2   10001915  Office Supplies       Labels   \n",
       "3   10004550  Office Supplies      Storage   \n",
       "4   10004068       Technology  Accessories   \n",
       "\n",
       "                                 product_name  \n",
       "0                      Fellowes Folders, Blue  \n",
       "1           SanDisk Numeric Keypad, Bluetooth  \n",
       "2  Avery Legal Exhibit Labels, 5000 Label Set  \n",
       "3                Fellowes Folders, Wire Frame  \n",
       "4                    Memorex Memory Card, USB  "
      ]
     },
     "execution_count": 152,
     "metadata": {},
     "output_type": "execute_result"
    }
   ],
   "source": [
    "product_dim.head()"
   ]
  },
  {
   "cell_type": "code",
   "execution_count": 153,
   "metadata": {},
   "outputs": [
    {
     "data": {
      "text/html": [
       "<div>\n",
       "<style scoped>\n",
       "    .dataframe tbody tr th:only-of-type {\n",
       "        vertical-align: middle;\n",
       "    }\n",
       "\n",
       "    .dataframe tbody tr th {\n",
       "        vertical-align: top;\n",
       "    }\n",
       "\n",
       "    .dataframe thead th {\n",
       "        text-align: right;\n",
       "    }\n",
       "</style>\n",
       "<table border=\"1\" class=\"dataframe\">\n",
       "  <thead>\n",
       "    <tr style=\"text-align: right;\">\n",
       "      <th></th>\n",
       "      <th>order_date</th>\n",
       "      <th>year</th>\n",
       "      <th>quarter</th>\n",
       "      <th>month</th>\n",
       "      <th>month_name</th>\n",
       "      <th>day</th>\n",
       "      <th>day_of_week</th>\n",
       "      <th>day_name</th>\n",
       "    </tr>\n",
       "  </thead>\n",
       "  <tbody>\n",
       "    <tr>\n",
       "      <th>0</th>\n",
       "      <td>2018-02-01</td>\n",
       "      <td>2018</td>\n",
       "      <td>1</td>\n",
       "      <td>2</td>\n",
       "      <td>February</td>\n",
       "      <td>1</td>\n",
       "      <td>3</td>\n",
       "      <td>Thursday</td>\n",
       "    </tr>\n",
       "    <tr>\n",
       "      <th>1</th>\n",
       "      <td>2018-02-02</td>\n",
       "      <td>2018</td>\n",
       "      <td>1</td>\n",
       "      <td>2</td>\n",
       "      <td>February</td>\n",
       "      <td>2</td>\n",
       "      <td>4</td>\n",
       "      <td>Friday</td>\n",
       "    </tr>\n",
       "    <tr>\n",
       "      <th>2</th>\n",
       "      <td>2018-02-03</td>\n",
       "      <td>2018</td>\n",
       "      <td>1</td>\n",
       "      <td>2</td>\n",
       "      <td>February</td>\n",
       "      <td>3</td>\n",
       "      <td>5</td>\n",
       "      <td>Saturday</td>\n",
       "    </tr>\n",
       "    <tr>\n",
       "      <th>3</th>\n",
       "      <td>2018-02-04</td>\n",
       "      <td>2018</td>\n",
       "      <td>1</td>\n",
       "      <td>2</td>\n",
       "      <td>February</td>\n",
       "      <td>4</td>\n",
       "      <td>6</td>\n",
       "      <td>Sunday</td>\n",
       "    </tr>\n",
       "    <tr>\n",
       "      <th>4</th>\n",
       "      <td>2018-02-05</td>\n",
       "      <td>2018</td>\n",
       "      <td>1</td>\n",
       "      <td>2</td>\n",
       "      <td>February</td>\n",
       "      <td>5</td>\n",
       "      <td>0</td>\n",
       "      <td>Monday</td>\n",
       "    </tr>\n",
       "  </tbody>\n",
       "</table>\n",
       "</div>"
      ],
      "text/plain": [
       "  order_date  year  quarter  month month_name  day  day_of_week  day_name\n",
       "0 2018-02-01  2018        1      2   February    1            3  Thursday\n",
       "1 2018-02-02  2018        1      2   February    2            4    Friday\n",
       "2 2018-02-03  2018        1      2   February    3            5  Saturday\n",
       "3 2018-02-04  2018        1      2   February    4            6    Sunday\n",
       "4 2018-02-05  2018        1      2   February    5            0    Monday"
      ]
     },
     "execution_count": 153,
     "metadata": {},
     "output_type": "execute_result"
    }
   ],
   "source": [
    "order_date_dim.head()"
   ]
  },
  {
   "cell_type": "code",
   "execution_count": 154,
   "metadata": {},
   "outputs": [
    {
     "data": {
      "text/html": [
       "<div>\n",
       "<style scoped>\n",
       "    .dataframe tbody tr th:only-of-type {\n",
       "        vertical-align: middle;\n",
       "    }\n",
       "\n",
       "    .dataframe tbody tr th {\n",
       "        vertical-align: top;\n",
       "    }\n",
       "\n",
       "    .dataframe thead th {\n",
       "        text-align: right;\n",
       "    }\n",
       "</style>\n",
       "<table border=\"1\" class=\"dataframe\">\n",
       "  <thead>\n",
       "    <tr style=\"text-align: right;\">\n",
       "      <th></th>\n",
       "      <th>ship_date</th>\n",
       "      <th>year</th>\n",
       "      <th>quarter</th>\n",
       "      <th>month</th>\n",
       "      <th>month_name</th>\n",
       "      <th>day</th>\n",
       "      <th>day_of_week</th>\n",
       "      <th>day_name</th>\n",
       "    </tr>\n",
       "  </thead>\n",
       "  <tbody>\n",
       "    <tr>\n",
       "      <th>0</th>\n",
       "      <td>2018-02-05</td>\n",
       "      <td>2018</td>\n",
       "      <td>1</td>\n",
       "      <td>2</td>\n",
       "      <td>February</td>\n",
       "      <td>5</td>\n",
       "      <td>0</td>\n",
       "      <td>Monday</td>\n",
       "    </tr>\n",
       "    <tr>\n",
       "      <th>1</th>\n",
       "      <td>2018-02-06</td>\n",
       "      <td>2018</td>\n",
       "      <td>1</td>\n",
       "      <td>2</td>\n",
       "      <td>February</td>\n",
       "      <td>6</td>\n",
       "      <td>1</td>\n",
       "      <td>Tuesday</td>\n",
       "    </tr>\n",
       "    <tr>\n",
       "      <th>2</th>\n",
       "      <td>2018-02-07</td>\n",
       "      <td>2018</td>\n",
       "      <td>1</td>\n",
       "      <td>2</td>\n",
       "      <td>February</td>\n",
       "      <td>7</td>\n",
       "      <td>2</td>\n",
       "      <td>Wednesday</td>\n",
       "    </tr>\n",
       "    <tr>\n",
       "      <th>3</th>\n",
       "      <td>2018-02-08</td>\n",
       "      <td>2018</td>\n",
       "      <td>1</td>\n",
       "      <td>2</td>\n",
       "      <td>February</td>\n",
       "      <td>8</td>\n",
       "      <td>3</td>\n",
       "      <td>Thursday</td>\n",
       "    </tr>\n",
       "    <tr>\n",
       "      <th>4</th>\n",
       "      <td>2018-02-09</td>\n",
       "      <td>2018</td>\n",
       "      <td>1</td>\n",
       "      <td>2</td>\n",
       "      <td>February</td>\n",
       "      <td>9</td>\n",
       "      <td>4</td>\n",
       "      <td>Friday</td>\n",
       "    </tr>\n",
       "  </tbody>\n",
       "</table>\n",
       "</div>"
      ],
      "text/plain": [
       "   ship_date  year  quarter  month month_name  day  day_of_week   day_name\n",
       "0 2018-02-05  2018        1      2   February    5            0     Monday\n",
       "1 2018-02-06  2018        1      2   February    6            1    Tuesday\n",
       "2 2018-02-07  2018        1      2   February    7            2  Wednesday\n",
       "3 2018-02-08  2018        1      2   February    8            3   Thursday\n",
       "4 2018-02-09  2018        1      2   February    9            4     Friday"
      ]
     },
     "execution_count": 154,
     "metadata": {},
     "output_type": "execute_result"
    }
   ],
   "source": [
    "ship_date_dim.head()"
   ]
  },
  {
   "cell_type": "markdown",
   "metadata": {},
   "source": [
    "While uploading the data to the database, we encountered errors. The following code addresses these issues."
   ]
  },
  {
   "cell_type": "code",
   "execution_count": 188,
   "metadata": {},
   "outputs": [],
   "source": [
    "# Step 1: Check for missing order_date values\n",
    "missing_order_dates = sales_fact[~sales_fact['order_date'].isin(order_date_dim['order_date'])]['order_date'].unique()\n",
    "\n",
    "# Step 2: Add missing dates to order_date_dim\n",
    "if len(missing_order_dates) > 0:\n",
    "    missing_dates_df = pd.DataFrame({'order_date': pd.to_datetime(missing_order_dates)})\n",
    "    missing_dates_df['year'] = missing_dates_df['order_date'].dt.year\n",
    "    missing_dates_df['quarter'] = missing_dates_df['order_date'].dt.quarter\n",
    "    missing_dates_df['month'] = missing_dates_df['order_date'].dt.month\n",
    "    missing_dates_df['month_name'] = missing_dates_df['order_date'].dt.strftime('%B')\n",
    "    missing_dates_df['day'] = missing_dates_df['order_date'].dt.day\n",
    "    missing_dates_df['day_name'] = missing_dates_df['order_date'].dt.strftime('%A')\n",
    "    \n",
    "    # Append missing dates to order_date_dim\n",
    "    order_date_dim = pd.concat([order_date_dim, missing_dates_df], ignore_index=True)\n",
    "\n",
    "# Ensure no duplicates in order_date_dim\n",
    "order_date_dim = order_date_dim.drop_duplicates(subset='order_date')"
   ]
  },
  {
   "cell_type": "code",
   "execution_count": 189,
   "metadata": {},
   "outputs": [],
   "source": [
    "# Step 1: Check for missing ship_date values\n",
    "missing_ship_dates = sales_fact[~sales_fact['ship_date'].isin(ship_date_dim['ship_date'])]['ship_date'].unique()\n",
    "\n",
    "# Step 2: Add missing dates to ship_date_dim\n",
    "if len(missing_ship_dates) > 0:\n",
    "    missing_dates_df = pd.DataFrame({'ship_date': pd.to_datetime(missing_ship_dates)})\n",
    "    missing_dates_df['year'] = missing_dates_df['ship_date'].dt.year\n",
    "    missing_dates_df['quarter'] = missing_dates_df['ship_date'].dt.quarter\n",
    "    missing_dates_df['month'] = missing_dates_df['ship_date'].dt.month\n",
    "    missing_dates_df['month_name'] = missing_dates_df['ship_date'].dt.strftime('%B')\n",
    "    missing_dates_df['day'] = missing_dates_df['ship_date'].dt.day\n",
    "    missing_dates_df['day_name'] = missing_dates_df['ship_date'].dt.strftime('%A')\n",
    "    \n",
    "    # Append missing dates to ship_date_dim\n",
    "    ship_date_dim = pd.concat([ship_date_dim, missing_dates_df], ignore_index=True)\n",
    "\n",
    "# Ensure no duplicates in ship_date_dim\n",
    "ship_date_dim = ship_date_dim.drop_duplicates(subset='ship_date')"
   ]
  },
  {
   "cell_type": "markdown",
   "metadata": {},
   "source": [
    "## LOAD"
   ]
  },
  {
   "cell_type": "markdown",
   "metadata": {},
   "source": [
    "We'll load the dataset into a PostgreSQL database that we've already set up. We've also designed the schema."
   ]
  },
  {
   "cell_type": "code",
   "execution_count": 155,
   "metadata": {},
   "outputs": [],
   "source": [
    "#creating the db engine instance\n",
    "engine = create_engine(DATABASE_URL)"
   ]
  },
  {
   "cell_type": "code",
   "execution_count": 182,
   "metadata": {},
   "outputs": [
    {
     "name": "stdout",
     "output_type": "stream",
     "text": [
      "Upload complete. Rows attempted: 1866\n"
     ]
    }
   ],
   "source": [
    "try:\n",
    "    order_date_dim.to_sql('order_date_dim', engine, if_exists='append', index=False)\n",
    "    print(f\"Upload complete. Rows attempted: {len(order_date_dim)}\")\n",
    "except Exception as e:\n",
    "    print(f\"An error occurred: {e}\")"
   ]
  },
  {
   "cell_type": "code",
   "execution_count": 183,
   "metadata": {},
   "outputs": [
    {
     "name": "stdout",
     "output_type": "stream",
     "text": [
      "Upload complete. Rows attempted: 1872\n"
     ]
    }
   ],
   "source": [
    "try:\n",
    "    ship_date_dim.to_sql('ship_date_dim', engine, if_exists='append', index=False)\n",
    "    print(f\"Upload complete. Rows attempted: {len(ship_date_dim)}\")\n",
    "except Exception as e:\n",
    "    print(f\"An error occurred: {e}\")"
   ]
  },
  {
   "cell_type": "code",
   "execution_count": 164,
   "metadata": {},
   "outputs": [
    {
     "name": "stdout",
     "output_type": "stream",
     "text": [
      "Upload complete. Rows attempted: 2682\n"
     ]
    }
   ],
   "source": [
    "try:\n",
    "    product_dim.to_sql('product_dim', engine, if_exists='append', index=False)\n",
    "    print(f\"Upload complete. Rows attempted: {len(product_dim)}\")\n",
    "except Exception as e:\n",
    "    print(f\"An error occurred: {e}\")"
   ]
  },
  {
   "cell_type": "code",
   "execution_count": 165,
   "metadata": {},
   "outputs": [
    {
     "name": "stdout",
     "output_type": "stream",
     "text": [
      "Upload complete. Rows attempted: 1588\n"
     ]
    }
   ],
   "source": [
    "try:\n",
    "    customer_dim.to_sql('customer_dim', engine, if_exists='append', index=False)\n",
    "    print(f\"Upload complete. Rows attempted: {len(customer_dim)}\")\n",
    "except Exception as e:\n",
    "    print(f\"An error occurred: {e}\")"
   ]
  },
  {
   "cell_type": "code",
   "execution_count": 184,
   "metadata": {},
   "outputs": [
    {
     "name": "stdout",
     "output_type": "stream",
     "text": [
      "Upload complete. Rows attempted: 19994\n"
     ]
    }
   ],
   "source": [
    "try:\n",
    "    sales_fact.to_sql('sales_fact', engine, if_exists='append', index=False)\n",
    "    print(f\"Upload complete. Rows attempted: {len(sales_fact)}\")\n",
    "except Exception as e:\n",
    "    print(f\"An error occurred: {e}\")"
   ]
  }
 ],
 "metadata": {
  "kernelspec": {
   "display_name": "Python 3",
   "language": "python",
   "name": "python3"
  },
  "language_info": {
   "codemirror_mode": {
    "name": "ipython",
    "version": 3
   },
   "file_extension": ".py",
   "mimetype": "text/x-python",
   "name": "python",
   "nbconvert_exporter": "python",
   "pygments_lexer": "ipython3",
   "version": "3.12.5"
  }
 },
 "nbformat": 4,
 "nbformat_minor": 2
}
